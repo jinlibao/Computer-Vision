{
 "cells": [
  {
   "cell_type": "code",
   "execution_count": null,
   "metadata": {},
   "outputs": [],
   "source": [
    "import os\n",
    "import numpy as np\n",
    "import pandas as pd\n",
    "import cv2\n",
    "import matplotlib.pyplot as plt\n",
    "import tensorflow as tf\n",
    "from tensorflow.keras.models import Sequential\n",
    "from tensorflow.keras.layers import Dense, Flatten, Dropout, Activation, Conv2D, MaxPooling2D\n",
    "from tensorflow.keras.optimizers import SGD \n",
    "from sklearn.model_selection import train_test_split\n",
    "from sklearn.preprocessing import LabelBinarizer\n",
    "from sklearn.metrics import classification_report"
   ]
  },
  {
   "cell_type": "code",
   "execution_count": null,
   "metadata": {},
   "outputs": [],
   "source": [
    "def load(base_dir='./animals'):\n",
    "    data, labels = [], []\n",
    "    categories = os.listdir(base_dir)\n",
    "    paths = [os.path.join(base_dir, category) for category in categories]\n",
    "    for path in paths:\n",
    "        files = os.listdir(path)\n",
    "        filenames = [os.path.join(path, file) for file in files]\n",
    "        for filename in filenames:\n",
    "            img = cv2.imread(filename)\n",
    "            image = cv2.resize(img, (32, 32), interpolation=cv2.INTER_AREA)\n",
    "            data.append(image.astype('float') / 255.0)\n",
    "            labels.append(files[0].split('_')[0])\n",
    "    data = np.array(data)\n",
    "    labels = np.array(labels)\n",
    "    return (data, labels, categories)"
   ]
  },
  {
   "cell_type": "code",
   "execution_count": null,
   "metadata": {},
   "outputs": [],
   "source": [
    "def CNN(data, labels, categories, learning_rates=[0.005], epochs=50):\n",
    "    X_train, X_test, y_train, y_test = train_test_split(data, labels, test_size=0.32, random_state=42)\n",
    "    Y_train = LabelBinarizer().fit_transform(y_train)\n",
    "    Y_test = LabelBinarizer().fit_transform(y_test)\n",
    "    models = []\n",
    "    results = []\n",
    "    for lr in learning_rates:\n",
    "        model = Sequential()\n",
    "        \n",
    "        # Model 1\n",
    "        model.add(Conv2D(32, (3, 3), padding='same', input_shape=X_train.shape[1:]))\n",
    "        model.add(Activation('relu'))\n",
    "        model.add(Flatten())\n",
    "        model.add(Dense(len(categories)))\n",
    "        model.add(Activation('softmax'))\n",
    "        \n",
    "        # Training & Testing\n",
    "        model.compile(\n",
    "            optimizer=SGD(lr=lr),\n",
    "            loss='categorical_crossentropy',\n",
    "            metrics=['accuracy']\n",
    "        )\n",
    "        H = model.fit(X_train, Y_train, epochs=epochs, batch_size=32, validation_split=0.25)\n",
    "        predictions = model.predict(X_test)\n",
    "        # predicted_labels = [categories[i] for i in predictions.argmax(axis=1)]\n",
    "        # print(*zip(predicted_labels, y_test))     \n",
    "\n",
    "        # Store results\n",
    "        models.append((epochs, H))\n",
    "        results.append((\n",
    "            lr,\n",
    "            classification_report(\n",
    "                Y_test.argmax(axis=1),\n",
    "                predictions.argmax(axis=1),\n",
    "                target_names=categories\n",
    "            )\n",
    "        ))\n",
    "    return (models, results)"
   ]
  },
  {
   "cell_type": "code",
   "execution_count": null,
   "metadata": {},
   "outputs": [],
   "source": [
    "def plot(models):\n",
    "    for n, H in models:\n",
    "        plt.style.use('ggplot')\n",
    "        plt.figure()\n",
    "        plt.plot(np.arange(0, n), H.history['loss'], label='train_loss')\n",
    "        plt.plot(np.arange(0, n), H.history['val_loss'], label='val_loss')\n",
    "        plt.plot(np.arange(0, n), H.history['accuracy'], label='train_acc')\n",
    "        plt.plot(np.arange(0, n), H.history['val_accuracy'], label='val_acc')\n",
    "        plt.title('Training Loss and Accuracy')\n",
    "        plt.xlabel('Epoch #')\n",
    "        plt.ylabel('Loss/Accuracy')\n",
    "        plt.legend()\n",
    "        plt.show()"
   ]
  },
  {
   "cell_type": "code",
   "execution_count": null,
   "metadata": {
    "scrolled": false
   },
   "outputs": [],
   "source": [
    "base_dir = '/Users/libao/Documents/data/animals'\n",
    "data, labels, categories = load(base_dir=base_dir)\n",
    "models, results = CNN(data, labels, categories)\n",
    "plot(models)\n",
    "for result in results:\n",
    "    print('Learning rate: {:f}'.format(result[0]))\n",
    "    print(result[1])"
   ]
  }
 ],
 "metadata": {
  "kernelspec": {
   "display_name": "Python 3",
   "language": "python",
   "name": "python3"
  },
  "language_info": {
   "codemirror_mode": {
    "name": "ipython",
    "version": 3
   },
   "file_extension": ".py",
   "mimetype": "text/x-python",
   "name": "python",
   "nbconvert_exporter": "python",
   "pygments_lexer": "ipython3",
   "version": "3.7.5"
  }
 },
 "nbformat": 4,
 "nbformat_minor": 2
}
